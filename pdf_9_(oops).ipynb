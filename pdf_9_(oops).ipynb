{
  "nbformat": 4,
  "nbformat_minor": 0,
  "metadata": {
    "colab": {
      "provenance": [],
      "authorship_tag": "ABX9TyMq0t53e9kKQN17OmZZOZu5",
      "include_colab_link": true
    },
    "kernelspec": {
      "name": "python3",
      "display_name": "Python 3"
    },
    "language_info": {
      "name": "python"
    }
  },
  "cells": [
    {
      "cell_type": "markdown",
      "metadata": {
        "id": "view-in-github",
        "colab_type": "text"
      },
      "source": [
        "<a href=\"https://colab.research.google.com/github/ANKITA4545/Assignment-3rd-semester-Ankita-23MA-03-/blob/main/pdf_9_(oops).ipynb\" target=\"_parent\"><img src=\"https://colab.research.google.com/assets/colab-badge.svg\" alt=\"Open In Colab\"/></a>"
      ]
    },
    {
      "cell_type": "code",
      "execution_count": null,
      "metadata": {
        "colab": {
          "base_uri": "https://localhost:8080/"
        },
        "id": "HDQawGA7Xf8G",
        "outputId": "3f0b2238-84f3-495c-a9df-97e8120e502e"
      },
      "outputs": [
        {
          "output_type": "stream",
          "name": "stdout",
          "text": [
            "[]\n"
          ]
        }
      ],
      "source": [
        "empty_list = []\n",
        "(empty_list)"
      ]
    },
    {
      "cell_type": "code",
      "source": [
        "another_empty_list = list()\n",
        "(another_empty_list)"
      ],
      "metadata": {
        "colab": {
          "base_uri": "https://localhost:8080/"
        },
        "id": "2S3FBJFzXglQ",
        "outputId": "fe682412-72ae-480b-a669-58e2afc44dfe"
      },
      "execution_count": null,
      "outputs": [
        {
          "output_type": "execute_result",
          "data": {
            "text/plain": [
              "[]"
            ]
          },
          "metadata": {},
          "execution_count": 2
        }
      ]
    },
    {
      "cell_type": "code",
      "source": [
        "another_empty_list.append(1)\n",
        "(another_empty_list)"
      ],
      "metadata": {
        "colab": {
          "base_uri": "https://localhost:8080/"
        },
        "id": "kfpSzGrjXgoF",
        "outputId": "9a934af0-b148-4868-c77f-16664ef2906f"
      },
      "execution_count": null,
      "outputs": [
        {
          "output_type": "execute_result",
          "data": {
            "text/plain": [
              "[1]"
            ]
          },
          "metadata": {},
          "execution_count": 3
        }
      ]
    },
    {
      "cell_type": "code",
      "source": [
        "another_empty_list.append(2)\n",
        "another_empty_list.append(3)\n",
        "(another_empty_list)"
      ],
      "metadata": {
        "colab": {
          "base_uri": "https://localhost:8080/"
        },
        "id": "lCZ7fUPYXgq7",
        "outputId": "d91d2169-aa40-4441-ca7a-72744930d463"
      },
      "execution_count": null,
      "outputs": [
        {
          "output_type": "execute_result",
          "data": {
            "text/plain": [
              "[1, 2, 3]"
            ]
          },
          "metadata": {},
          "execution_count": 4
        }
      ]
    },
    {
      "cell_type": "code",
      "source": [
        "another_empty_list.index(3)"
      ],
      "metadata": {
        "colab": {
          "base_uri": "https://localhost:8080/"
        },
        "id": "NeLgpPF7Xgt3",
        "outputId": "c1fb63b7-b690-4acb-ab00-ff76924fbe2a"
      },
      "execution_count": null,
      "outputs": [
        {
          "output_type": "execute_result",
          "data": {
            "text/plain": [
              "2"
            ]
          },
          "metadata": {},
          "execution_count": 5
        }
      ]
    },
    {
      "cell_type": "code",
      "source": [
        "the_sixth_sense = 6\n",
        "print(type(the_sixth_sense))\n"
      ],
      "metadata": {
        "colab": {
          "base_uri": "https://localhost:8080/"
        },
        "id": "smfe9HgxXgwo",
        "outputId": "5f69e978-cf4b-41ed-f873-6e06bc2625d3"
      },
      "execution_count": null,
      "outputs": [
        {
          "output_type": "stream",
          "name": "stdout",
          "text": [
            "<class 'int'>\n"
          ]
        }
      ]
    },
    {
      "cell_type": "code",
      "source": [
        "the_sixth_sense = str(the_sixth_sense)\n",
        "print(type(the_sixth_sense))"
      ],
      "metadata": {
        "colab": {
          "base_uri": "https://localhost:8080/"
        },
        "id": "nYszrJtFXg2P",
        "outputId": "bc8f85d5-364e-4750-f56a-8b3f978e7398"
      },
      "execution_count": null,
      "outputs": [
        {
          "output_type": "stream",
          "name": "stdout",
          "text": [
            "<class 'str'>\n"
          ]
        }
      ]
    },
    {
      "cell_type": "code",
      "source": [
        "schindlers_list = [\"A\", \"B\", \"C\"]\n",
        "print(type(schindlers_list))"
      ],
      "metadata": {
        "colab": {
          "base_uri": "https://localhost:8080/"
        },
        "id": "ht-tnzv6Xg5C",
        "outputId": "dae782a3-4089-4006-80d1-07cf100b7c71"
      },
      "execution_count": null,
      "outputs": [
        {
          "output_type": "stream",
          "name": "stdout",
          "text": [
            "<class 'list'>\n"
          ]
        }
      ]
    },
    {
      "cell_type": "code",
      "source": [
        "tharoor = {\"A\", \"B\", \"C\"}\n",
        "print(type(tharoor))"
      ],
      "metadata": {
        "colab": {
          "base_uri": "https://localhost:8080/"
        },
        "id": "FTsQ_bxtXg-4",
        "outputId": "6914c4aa-d94e-476f-c81c-f76c47d0be19"
      },
      "execution_count": null,
      "outputs": [
        {
          "output_type": "stream",
          "name": "stdout",
          "text": [
            "<class 'set'>\n"
          ]
        }
      ]
    },
    {
      "cell_type": "code",
      "source": [
        "two_and_a_half_men = (\"A\", \"B\", \"C\")\n",
        "print(type(two_and_a_half_men))"
      ],
      "metadata": {
        "colab": {
          "base_uri": "https://localhost:8080/"
        },
        "id": "Q2q6Y5N4XhCH",
        "outputId": "da70d8b1-17e0-4653-a497-8d8355a2fe72"
      },
      "execution_count": null,
      "outputs": [
        {
          "output_type": "stream",
          "name": "stdout",
          "text": [
            "<class 'tuple'>\n"
          ]
        }
      ]
    },
    {
      "cell_type": "code",
      "source": [
        "class FirstClass:\n",
        "  pass\n",
        "\n",
        "x = FirstClass()\n",
        "print(type(x))"
      ],
      "metadata": {
        "colab": {
          "base_uri": "https://localhost:8080/"
        },
        "id": "kIA_3PsYZC3K",
        "outputId": "972ecef8-e06a-4dac-b227-7085effd997d"
      },
      "execution_count": null,
      "outputs": [
        {
          "output_type": "stream",
          "name": "stdout",
          "text": [
            "<class '__main__.FirstClass'>\n"
          ]
        }
      ]
    },
    {
      "cell_type": "code",
      "source": [
        "y = FirstClass()\n",
        "print(type(y))"
      ],
      "metadata": {
        "colab": {
          "base_uri": "https://localhost:8080/"
        },
        "id": "PuEtOkypZC5v",
        "outputId": "bf44d4cb-fd27-43f8-b55c-661561603586"
      },
      "execution_count": null,
      "outputs": [
        {
          "output_type": "stream",
          "name": "stdout",
          "text": [
            "<class '__main__.FirstClass'>\n"
          ]
        }
      ]
    },
    {
      "cell_type": "code",
      "source": [
        "class Dog:\n",
        "  def __init__(self, name, age):\n",
        "    self.name = name\n",
        "    self.age = age\n",
        "\n",
        "sam_object = Dog(\"Sam\", 25)\n",
        "print(type(sam_object))"
      ],
      "metadata": {
        "colab": {
          "base_uri": "https://localhost:8080/"
        },
        "id": "JprrP2fNZC8i",
        "outputId": "12a0ad8d-6fd9-4c52-c3f7-d2a5968459e6"
      },
      "execution_count": null,
      "outputs": [
        {
          "output_type": "stream",
          "name": "stdout",
          "text": [
            "<class '__main__.Dog'>\n"
          ]
        }
      ]
    },
    {
      "cell_type": "code",
      "source": [
        "class Circle:\n",
        "  pi = 3.14\n",
        "\n",
        "  def __init__(self, radius=1):\n",
        "    self.radius = radius\n",
        "    self.area = 3.14 * radius * radius\n",
        "\n",
        "  def setRadius(self, new_radius):\n",
        "    self.radius = new_radius\n",
        "    self.area = 3.14 * new_radius * new_radius\n",
        "\n",
        "  def getCircumference(self):\n",
        "    return self.radius * self.pi * 2\n",
        "\n",
        "c = Circle()\n",
        "print(c.radius)\n",
        "print(c.area)\n",
        "print(c.getCircumference())"
      ],
      "metadata": {
        "colab": {
          "base_uri": "https://localhost:8080/"
        },
        "id": "Md1lwRMqZC_L",
        "outputId": "abf4b8cd-1d29-4d5b-d38f-f8cda89cb935"
      },
      "execution_count": null,
      "outputs": [
        {
          "output_type": "stream",
          "name": "stdout",
          "text": [
            "1\n",
            "3.14\n",
            "6.28\n"
          ]
        }
      ]
    },
    {
      "cell_type": "code",
      "source": [
        "c.setRadius(2)\n",
        "print(c.radius)\n",
        "print(c.area)\n",
        "print(c.getCircumference())"
      ],
      "metadata": {
        "colab": {
          "base_uri": "https://localhost:8080/"
        },
        "id": "LfGSoxBbZDB_",
        "outputId": "72fd013f-70b7-4ae6-8975-088b3f96cd36"
      },
      "execution_count": null,
      "outputs": [
        {
          "output_type": "stream",
          "name": "stdout",
          "text": [
            "2\n",
            "12.56\n",
            "12.56\n"
          ]
        }
      ]
    },
    {
      "cell_type": "code",
      "source": [
        "print('Radius is: ', c.radius)\n",
        "print('Area is: ', c.area )\n",
        "print('Circumference is: ', c.getCircumference())"
      ],
      "metadata": {
        "colab": {
          "base_uri": "https://localhost:8080/"
        },
        "id": "dO700BhLbGQN",
        "outputId": "77fb59d8-8359-4d50-d2e1-abd095484a09"
      },
      "execution_count": null,
      "outputs": [
        {
          "output_type": "stream",
          "name": "stdout",
          "text": [
            "Radius is:  2\n",
            "Area is:  12.56\n",
            "Circumference is:  12.56\n"
          ]
        }
      ]
    },
    {
      "cell_type": "code",
      "source": [
        "c.setRadius(5)\n",
        "print('Radius is: ', c.radius)\n",
        "print('Area is: ', c.area )\n",
        "print('Circumference is: ', c.getCircumference())"
      ],
      "metadata": {
        "colab": {
          "base_uri": "https://localhost:8080/"
        },
        "id": "NJXPJvRzbGS4",
        "outputId": "e738cba2-3963-413f-c93b-48f166e58420"
      },
      "execution_count": null,
      "outputs": [
        {
          "output_type": "stream",
          "name": "stdout",
          "text": [
            "Radius is:  5\n",
            "Area is:  78.5\n",
            "Circumference is:  31.400000000000002\n"
          ]
        }
      ]
    },
    {
      "cell_type": "code",
      "source": [
        "class HouseStark:\n",
        "  def __init__(self, sigil):\n",
        "    self.sigil = sigil\n",
        "\n",
        "  def motto(self):\n",
        "    return \"House Stark with sigil \" + self.sigil + \" has the motto 'Winter is Coming'\"\n",
        "\n",
        "class HouseLannister:\n",
        "  def __init__(self, sigil):\n",
        "    self.sigil = sigil\n",
        "\n",
        "  def motto(self):\n",
        "    return \"House Lannister with sigil \" + self.sigil + \" has the motto 'Hear Me Roar'\"\n",
        "\n",
        "\n",
        "arya = HouseStark('direwolf')\n",
        "tyrion = HouseLannister('golden lion')\n",
        "\n",
        "print(arya.motto())"
      ],
      "metadata": {
        "colab": {
          "base_uri": "https://localhost:8080/"
        },
        "id": "qUfwQWtcbGac",
        "outputId": "fcc0a2dd-1731-48e8-d5d2-3552ff3ea310"
      },
      "execution_count": null,
      "outputs": [
        {
          "output_type": "stream",
          "name": "stdout",
          "text": [
            "House Stark with sigil direwolf has the motto 'Winter is Coming'\n"
          ]
        }
      ]
    },
    {
      "cell_type": "code",
      "source": [
        "print(tyrion.motto())"
      ],
      "metadata": {
        "colab": {
          "base_uri": "https://localhost:8080/"
        },
        "id": "eNVekz0VbGgo",
        "outputId": "b82b4182-f3da-427c-e0c5-2bd7d47c2f77"
      },
      "execution_count": null,
      "outputs": [
        {
          "output_type": "stream",
          "name": "stdout",
          "text": [
            "House Lannister with sigil golden lion has the motto 'Hear Me Roar'\n"
          ]
        }
      ]
    },
    {
      "cell_type": "code",
      "source": [
        "for warrior in [arya, tyrion]:\n",
        "  print(warrior.motto())"
      ],
      "metadata": {
        "colab": {
          "base_uri": "https://localhost:8080/"
        },
        "id": "MnnM_0mKfhmQ",
        "outputId": "00b0ce48-bd8d-4d2d-ab7e-57cbddb3d6cb"
      },
      "execution_count": null,
      "outputs": [
        {
          "output_type": "stream",
          "name": "stdout",
          "text": [
            "House Stark with sigil direwolf has the motto 'Winter is Coming'\n",
            "House Lannister with sigil golden lion has the motto 'Hear Me Roar'\n"
          ]
        }
      ]
    },
    {
      "cell_type": "code",
      "source": [
        "def get_motto(warrior):\n",
        "  print(warrior.motto())\n",
        "\n",
        "get_motto(arya)\n",
        "get_motto(tyrion)"
      ],
      "metadata": {
        "colab": {
          "base_uri": "https://localhost:8080/"
        },
        "id": "8U3xh38cfjkt",
        "outputId": "c344286e-eac3-4794-c9eb-ae545ede19fb"
      },
      "execution_count": null,
      "outputs": [
        {
          "output_type": "stream",
          "name": "stdout",
          "text": [
            "House Stark with sigil direwolf has the motto 'Winter is Coming'\n",
            "House Lannister with sigil golden lion has the motto 'Hear Me Roar'\n"
          ]
        }
      ]
    },
    {
      "cell_type": "code",
      "source": [
        "print('XGBoost)"
      ],
      "metadata": {
        "colab": {
          "base_uri": "https://localhost:8080/",
          "height": 106
        },
        "id": "6hQFgMXIfjnZ",
        "outputId": "b9f7957e-dcf8-47fb-c715-550c8f2338de"
      },
      "execution_count": null,
      "outputs": [
        {
          "output_type": "error",
          "ename": "SyntaxError",
          "evalue": "unterminated string literal (detected at line 1) (<ipython-input-52-4c062b08efa2>, line 1)",
          "traceback": [
            "\u001b[0;36m  File \u001b[0;32m\"<ipython-input-52-4c062b08efa2>\"\u001b[0;36m, line \u001b[0;32m1\u001b[0m\n\u001b[0;31m    print('XGBoost)\u001b[0m\n\u001b[0m          ^\u001b[0m\n\u001b[0;31mSyntaxError\u001b[0m\u001b[0;31m:\u001b[0m unterminated string literal (detected at line 1)\n"
          ]
        }
      ]
    },
    {
      "cell_type": "code",
      "source": [
        "try:\n",
        "  print(\"Good to go\")\n",
        "except:\n",
        "  print(\"Something went wrong\")\n",
        "else:\n",
        "  print(\"Nothing went wrong\")"
      ],
      "metadata": {
        "colab": {
          "base_uri": "https://localhost:8080/"
        },
        "id": "qPeCxstCfjq1",
        "outputId": "d74ec2e7-18f6-45ec-9567-db2cd4804ee2"
      },
      "execution_count": null,
      "outputs": [
        {
          "output_type": "stream",
          "name": "stdout",
          "text": [
            "Good to go\n",
            "Nothing went wrong\n"
          ]
        }
      ]
    },
    {
      "cell_type": "code",
      "source": [
        "try:\n",
        "  print(\"Execute try statement\")\n",
        "except:\n",
        "  print(\"Execute except statement\")\n"
      ],
      "metadata": {
        "colab": {
          "base_uri": "https://localhost:8080/"
        },
        "id": "FheBhOicfho6",
        "outputId": "3d844bbd-36c9-4d77-92ae-38d99a1d758e"
      },
      "execution_count": null,
      "outputs": [
        {
          "output_type": "stream",
          "name": "stdout",
          "text": [
            "Execute try statement\n"
          ]
        }
      ]
    },
    {
      "cell_type": "code",
      "source": [
        "a = 1\n",
        "b = 0.2\n",
        "try:\n",
        "  print(a/b)\n",
        "except Exception as e:\n",
        "  print(\"Exception occured: \", e)"
      ],
      "metadata": {
        "colab": {
          "base_uri": "https://localhost:8080/"
        },
        "id": "Xx7Cl-QufhsJ",
        "outputId": "3f322d9a-f405-4ddd-e6dd-8150dcad9acc"
      },
      "execution_count": null,
      "outputs": [
        {
          "output_type": "stream",
          "name": "stdout",
          "text": [
            "5.0\n"
          ]
        }
      ]
    },
    {
      "cell_type": "code",
      "source": [
        "try:\n",
        "  a = 1\n",
        "  print(adefewdwd)\n",
        "  try:\n",
        "    print(type(afggdgdsgg))\n",
        "   except:\n",
        "    print('Error occured')\n",
        "\n",
        "  except Exception as ex:\n",
        "    print('The error is : ',ex)\n",
        "    print(b, type(b))\n",
        "except NameError as e:\n",
        "  print(f\"Outer NameError: {e}\")"
      ],
      "metadata": {
        "colab": {
          "base_uri": "https://localhost:8080/",
          "height": 106
        },
        "id": "7zGX0sqAfhx4",
        "outputId": "1a156ad0-83de-45c4-dcc8-7fba72f1482a"
      },
      "execution_count": null,
      "outputs": [
        {
          "output_type": "error",
          "ename": "IndentationError",
          "evalue": "unindent does not match any outer indentation level (<tokenize>, line 6)",
          "traceback": [
            "\u001b[0;36m  File \u001b[0;32m\"<tokenize>\"\u001b[0;36m, line \u001b[0;32m6\u001b[0m\n\u001b[0;31m    except:\u001b[0m\n\u001b[0m    ^\u001b[0m\n\u001b[0;31mIndentationError\u001b[0m\u001b[0;31m:\u001b[0m unindent does not match any outer indentation level\n"
          ]
        }
      ]
    },
    {
      "cell_type": "code",
      "source": [
        "def get_price_per_km(hour):\n",
        "\n",
        "  if (hour > 8) & (hour < 11):\n",
        "    get_price_per_km = 20\n",
        "  elif (hour > 11) & (hour < 15):\n",
        "    get_price_per_km = 15\n",
        "  elif (hour >  15) & (hour < 20):\n",
        "    get_price_per_km = 10\n",
        "  else:\n",
        "    get_price_per_km = 5\n",
        "\n",
        "  return get_price_per_km"
      ],
      "metadata": {
        "id": "N9JFQABBjBpe"
      },
      "execution_count": null,
      "outputs": []
    },
    {
      "cell_type": "code",
      "source": [
        "9 * get_price_per_km(12)"
      ],
      "metadata": {
        "colab": {
          "base_uri": "https://localhost:8080/"
        },
        "id": "RZcvrhi3jBsW",
        "outputId": "74a873be-b91f-4ad8-a4fa-7448c0182793"
      },
      "execution_count": null,
      "outputs": [
        {
          "output_type": "execute_result",
          "data": {
            "text/plain": [
              "135"
            ]
          },
          "metadata": {},
          "execution_count": 68
        }
      ]
    },
    {
      "cell_type": "code",
      "source": [
        "class SurgePricing:\n",
        "  def __init__(self):\n",
        "    pass\n",
        "\n",
        "  def get_price_per_km(self, hour):\n",
        "    # Indent the code within the function definition\n",
        "    if (hour > 8) & (hour < 11):\n",
        "      get_price_per_km = 20\n",
        "    elif (hour > 11) & (hour < 15):\n",
        "      get_price_per_km = 15\n",
        "    else:\n",
        "      get_price_per_km = 5\n",
        "\n",
        "    return get_price_per_km"
      ],
      "metadata": {
        "id": "5VpuayXUjBx-"
      },
      "execution_count": null,
      "outputs": []
    },
    {
      "cell_type": "code",
      "source": [],
      "metadata": {
        "id": "aasw9aqZjB0v"
      },
      "execution_count": null,
      "outputs": []
    },
    {
      "cell_type": "code",
      "source": [],
      "metadata": {
        "id": "AHbtYmtTjB3h"
      },
      "execution_count": null,
      "outputs": []
    },
    {
      "cell_type": "code",
      "source": [],
      "metadata": {
        "id": "gKdoy_odjB6T"
      },
      "execution_count": null,
      "outputs": []
    },
    {
      "cell_type": "code",
      "source": [],
      "metadata": {
        "id": "wPB1f6CujB81"
      },
      "execution_count": null,
      "outputs": []
    },
    {
      "cell_type": "code",
      "source": [],
      "metadata": {
        "id": "iralQqu0jCAO"
      },
      "execution_count": null,
      "outputs": []
    },
    {
      "cell_type": "code",
      "source": [],
      "metadata": {
        "id": "A65-H0_Ufh3z"
      },
      "execution_count": null,
      "outputs": []
    },
    {
      "cell_type": "code",
      "source": [],
      "metadata": {
        "id": "jszX2Y_RXhFq"
      },
      "execution_count": null,
      "outputs": []
    }
  ]
}